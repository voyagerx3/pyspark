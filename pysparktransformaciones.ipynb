{
 "cells": [
  {
   "cell_type": "markdown",
   "metadata": {},
   "source": [
    "## Parallelize"
   ]
  },
  {
   "cell_type": "code",
   "execution_count": 245,
   "metadata": {},
   "outputs": [],
   "source": [
    "a = sc.parallelize([1, 2, 3, 4, 5])"
   ]
  },
  {
   "cell_type": "code",
   "execution_count": 246,
   "metadata": {},
   "outputs": [
    {
     "data": {
      "text/plain": [
       "4"
      ]
     },
     "execution_count": 246,
     "metadata": {},
     "output_type": "execute_result"
    }
   ],
   "source": [
    "a.getNumPartitions()"
   ]
  },
  {
   "cell_type": "code",
   "execution_count": 247,
   "metadata": {},
   "outputs": [],
   "source": [
    "b = a.map(lambda x: 2 * x)"
   ]
  },
  {
   "cell_type": "code",
   "execution_count": 248,
   "metadata": {},
   "outputs": [
    {
     "data": {
      "text/plain": [
       "[2, 4, 6, 8, 10]"
      ]
     },
     "execution_count": 248,
     "metadata": {},
     "output_type": "execute_result"
    }
   ],
   "source": [
    "b.collect()"
   ]
  },
  {
   "cell_type": "markdown",
   "metadata": {},
   "source": [
    "## Filter"
   ]
  },
  {
   "cell_type": "code",
   "execution_count": 249,
   "metadata": {},
   "outputs": [],
   "source": [
    "d = a.filter(lambda x: x % 2 == 0)"
   ]
  },
  {
   "cell_type": "code",
   "execution_count": 250,
   "metadata": {},
   "outputs": [
    {
     "data": {
      "text/plain": [
       "[2, 4]"
      ]
     },
     "execution_count": 250,
     "metadata": {},
     "output_type": "execute_result"
    }
   ],
   "source": [
    "d.collect()"
   ]
  },
  {
   "cell_type": "markdown",
   "metadata": {},
   "source": [
    "## Map FlatMap"
   ]
  },
  {
   "cell_type": "code",
   "execution_count": 251,
   "metadata": {},
   "outputs": [],
   "source": [
    "e = sc.parallelize([\"spark rdd example\", \"Flat Map for dummies\"], 2)"
   ]
  },
  {
   "cell_type": "code",
   "execution_count": 252,
   "metadata": {},
   "outputs": [],
   "source": [
    "#Operación Map  retornara una array de array\n",
    "f= e.map(lambda x: x.split(' '))"
   ]
  },
  {
   "cell_type": "code",
   "execution_count": 253,
   "metadata": {},
   "outputs": [
    {
     "name": "stdout",
     "output_type": "stream",
     "text": [
      "[['spark', 'rdd', 'example'], ['Flat', 'Map', 'for', 'dummies']]\n"
     ]
    }
   ],
   "source": [
    "print(f.collect())"
   ]
  },
  {
   "cell_type": "code",
   "execution_count": 254,
   "metadata": {},
   "outputs": [],
   "source": [
    "#Operación  Flapmap retornara una array de palabras\n",
    "f = e.flatMap(lambda x: x.split(' '))"
   ]
  },
  {
   "cell_type": "code",
   "execution_count": 255,
   "metadata": {},
   "outputs": [
    {
     "name": "stdout",
     "output_type": "stream",
     "text": [
      "['spark', 'rdd', 'example', 'Flat', 'Map', 'for', 'dummies']\n"
     ]
    }
   ],
   "source": [
    "print(f.collect())"
   ]
  },
  {
   "cell_type": "markdown",
   "metadata": {},
   "source": [
    "## mapPartitions"
   ]
  },
  {
   "cell_type": "code",
   "execution_count": 313,
   "metadata": {},
   "outputs": [
    {
     "data": {
      "text/plain": [
       "2"
      ]
     },
     "execution_count": 313,
     "metadata": {},
     "output_type": "execute_result"
    }
   ],
   "source": [
    "kv_mpar= sc.parallelize([1, 2, 3, 4, 5, 6],2)\n",
    "kv_mpar.getNumPartitions()"
   ]
  },
  {
   "cell_type": "code",
   "execution_count": 314,
   "metadata": {},
   "outputs": [
    {
     "data": {
      "text/plain": [
       "[1, 2, 3, 4, 5, 6]"
      ]
     },
     "execution_count": 314,
     "metadata": {},
     "output_type": "execute_result"
    }
   ],
   "source": [
    "kv_mpar.collect()"
   ]
  },
  {
   "cell_type": "code",
   "execution_count": 257,
   "metadata": {},
   "outputs": [],
   "source": [
    "def fun(iterator): yield sum(iterator)"
   ]
  },
  {
   "cell_type": "code",
   "execution_count": 258,
   "metadata": {},
   "outputs": [
    {
     "data": {
      "text/plain": [
       "[6, 15]"
      ]
     },
     "execution_count": 258,
     "metadata": {},
     "output_type": "execute_result"
    }
   ],
   "source": [
    "kv_mpar.mapPartitions(fun).collect()"
   ]
  },
  {
   "cell_type": "markdown",
   "metadata": {},
   "source": [
    "## mapPartitionsWithIndex"
   ]
  },
  {
   "cell_type": "code",
   "execution_count": 259,
   "metadata": {},
   "outputs": [],
   "source": [
    "def f(splitIndex, iterator): yield splitIndex"
   ]
  },
  {
   "cell_type": "code",
   "execution_count": 260,
   "metadata": {},
   "outputs": [
    {
     "data": {
      "text/plain": [
       "1"
      ]
     },
     "execution_count": 260,
     "metadata": {},
     "output_type": "execute_result"
    }
   ],
   "source": [
    "kv_mpar.mapPartitionsWithIndex(f).sum()"
   ]
  },
  {
   "cell_type": "markdown",
   "metadata": {},
   "source": [
    "## mapPartitionsWithSplit"
   ]
  },
  {
   "cell_type": "code",
   "execution_count": 261,
   "metadata": {},
   "outputs": [
    {
     "name": "stderr",
     "output_type": "stream",
     "text": [
      "/Library/Frameworks/Python.framework/Versions/3.6/lib/python3.6/site-packages/ipykernel_launcher.py:1: DeprecationWarning: mapPartitionsWithSplit is deprecated; use mapPartitionsWithIndex instead\n",
      "  \"\"\"Entry point for launching an IPython kernel.\n"
     ]
    },
    {
     "data": {
      "text/plain": [
       "1"
      ]
     },
     "execution_count": 261,
     "metadata": {},
     "output_type": "execute_result"
    }
   ],
   "source": [
    "kv_mpar.mapPartitionsWithSplit(f).sum()"
   ]
  },
  {
   "cell_type": "markdown",
   "metadata": {},
   "source": [
    "## GroupByKey"
   ]
  },
  {
   "cell_type": "code",
   "execution_count": 303,
   "metadata": {},
   "outputs": [
    {
     "data": {
      "text/plain": [
       "[('a', 7), ('b', 4), ('a', 1), ('b', 6), ('c', 3)]"
      ]
     },
     "execution_count": 303,
     "metadata": {},
     "output_type": "execute_result"
    }
   ],
   "source": [
    "kv = sc.parallelize([ ('a', 7), ('b', 4), ('a', 1), ('b', 6), ('c', 3) ])\n",
    "kv.collect()"
   ]
  },
  {
   "cell_type": "code",
   "execution_count": 304,
   "metadata": {},
   "outputs": [],
   "source": [
    "kv_result=kv.groupByKey()"
   ]
  },
  {
   "cell_type": "code",
   "execution_count": 305,
   "metadata": {},
   "outputs": [
    {
     "name": "stdout",
     "output_type": "stream",
     "text": [
      "b [4, 6]\n",
      "c [3]\n",
      "a [7, 1]\n"
     ]
    }
   ],
   "source": [
    "for t in kv_result.collect():\n",
    "    print(t[0], [v for v in t[1]])"
   ]
  },
  {
   "cell_type": "code",
   "execution_count": 306,
   "metadata": {},
   "outputs": [
    {
     "data": {
      "text/plain": [
       "[('a', [<pyspark.resultiterable.ResultIterable at 0x10cf30208>]),\n",
       " ('b', [<pyspark.resultiterable.ResultIterable at 0x10cf30cc0>]),\n",
       " ('c', [<pyspark.resultiterable.ResultIterable at 0x10cf30f98>])]"
      ]
     },
     "execution_count": 306,
     "metadata": {},
     "output_type": "execute_result"
    }
   ],
   "source": [
    "sorted(kv_result.groupByKey().mapValues(list).collect())"
   ]
  },
  {
   "cell_type": "markdown",
   "metadata": {},
   "source": [
    "##  reduceByKey"
   ]
  },
  {
   "cell_type": "code",
   "execution_count": 265,
   "metadata": {},
   "outputs": [
    {
     "name": "stdout",
     "output_type": "stream",
     "text": [
      "[('b', 10), ('c', 3), ('a', 8)]\n"
     ]
    }
   ],
   "source": [
    "kv_reduce=kv.reduceByKey(lambda accum, n: accum + n)\n",
    "print(kv_reduce.collect())"
   ]
  },
  {
   "cell_type": "markdown",
   "metadata": {},
   "source": [
    "## aggregateByKey"
   ]
  },
  {
   "cell_type": "code",
   "execution_count": 266,
   "metadata": {},
   "outputs": [],
   "source": [
    "studentRDD = sc.parallelize([\n",
    "('Hugo', 'Escala', 87), \n",
    "('Hugo', 'Spark', 93), \n",
    "('Hugo', 'Python', 90), \n",
    "('Hugo', 'F#', 91),\n",
    "('Loles', 'Escala', 76), \n",
    "('Loles', 'Spark', 79), \n",
    "('Loles', 'Python', 78), \n",
    "('Loles', 'F#', 88), \n",
    "('Tolola', 'Escala', 68), \n",
    "('Tolola', 'Spark', 76), \n",
    "('Tolola', 'Python', 93), \n",
    "('Tolola', 'F#', 90),\n",
    "('Eustaquio', 'Escala', 61), \n",
    "('Eustaquio', 'Spark', 73), \n",
    "('Eustaquio', 'Python', 46), \n",
    "('Eustaquio', 'F#', 42), \n",
    "('Ighor', 'Escala', 59), \n",
    "('Ighor', 'Spark', 58), \n",
    "('Ighor', 'Python', 72), \n",
    "('Ighor', 'F#', 52)  \n",
    " ])\n",
    "#studentRDD.collect()"
   ]
  },
  {
   "cell_type": "markdown",
   "metadata": {},
   "source": [
    "### la Mejor Nota por alumno"
   ]
  },
  {
   "cell_type": "code",
   "execution_count": 267,
   "metadata": {},
   "outputs": [],
   "source": [
    "def seqFunc(acc, teams):\n",
    "    if(acc > teams[1]):\n",
    "        return acc \n",
    "    else: \n",
    "        return teams[1]\n",
    "\n",
    "def combFunc(acc1, acc2):\n",
    "    if(acc1 > acc2):\n",
    "        return acc1 \n",
    "    else:\n",
    "        return acc2"
   ]
  },
  {
   "cell_type": "code",
   "execution_count": 268,
   "metadata": {},
   "outputs": [
    {
     "name": "stdout",
     "output_type": "stream",
     "text": [
      "('Hugo', 93)\n",
      "('Tolola', 93)\n",
      "('Eustaquio', 73)\n",
      "('Loles', 88)\n",
      "('Ighor', 72)\n"
     ]
    }
   ],
   "source": [
    "zero_val = 0\n",
    "aggr_rdd = studentRDD.map(lambda t: (t[0], (t[1], t[2]))).aggregateByKey(zero_val, seqFunc, combFunc) \n",
    "\n",
    "for tpl in aggr_rdd.collect():\n",
    "    print(tpl) "
   ]
  },
  {
   "cell_type": "markdown",
   "metadata": {},
   "source": [
    "### La Mejor Nota de la Materia por Alumno"
   ]
  },
  {
   "cell_type": "code",
   "execution_count": 269,
   "metadata": {},
   "outputs": [],
   "source": [
    "def seqFuncM(acc, teams):\n",
    "    if(acc[1] > teams[1]):\n",
    "        return acc \n",
    "    else: \n",
    "        return teams\n",
    "\n",
    "def combFuncM(acc1, acc2):\n",
    "    if(acc1[1] > acc2[1]):\n",
    "        return acc1 \n",
    "    else:\n",
    "        return acc2"
   ]
  },
  {
   "cell_type": "code",
   "execution_count": 270,
   "metadata": {},
   "outputs": [
    {
     "name": "stdout",
     "output_type": "stream",
     "text": [
      "('Hugo', ('Spark', 93))\n",
      "('Tolola', ('Python', 93))\n",
      "('Eustaquio', ('Spark', 73))\n",
      "('Loles', ('F#', 88))\n",
      "('Ighor', ('Python', 72))\n"
     ]
    }
   ],
   "source": [
    "# Zero Value: Zero value in our case will be 0 as we are finding Maximum Marks\n",
    "zero_val = ('', 0)\n",
    "aggr_rdd = studentRDD.map(lambda t: (t[0], (t[1], t[2]))).aggregateByKey(zero_val, seqFuncM, combFuncM) \n",
    " \n",
    "# Check the Outout\n",
    "for tpl in aggr_rdd.collect():\n",
    "    print(tpl)\n",
    " "
   ]
  },
  {
   "cell_type": "markdown",
   "metadata": {},
   "source": [
    "### El Promedio de las Notas"
   ]
  },
  {
   "cell_type": "code",
   "execution_count": 344,
   "metadata": {},
   "outputs": [],
   "source": [
    "def seqFuncP(acc, teams):\n",
    "    return (acc[0] + teams[1], acc[1] + 1)\n",
    "\n",
    "def combFuncP(acc1, acc2):\n",
    "    return (acc1[0] + acc2[0], acc1[1] + acc2[1])"
   ]
  },
  {
   "cell_type": "code",
   "execution_count": 345,
   "metadata": {},
   "outputs": [
    {
     "name": "stdout",
     "output_type": "stream",
     "text": [
      "('Hugo', 90.25)\n",
      "('Tolola', 81.75)\n",
      "('Eustaquio', 55.5)\n",
      "('Loles', 80.25)\n",
      "('Ighor', 60.25)\n"
     ]
    }
   ],
   "source": [
    "zero_val = (0, 0)\n",
    "aggr_rdd = studentRDD.map(lambda t: (t[0], (t[1], t[2]))).aggregateByKey(zero_val, seqFuncP, combFuncP).map(lambda t: (t[0], t[1][0]/t[1][1]*1.0))\n",
    "  \n",
    "# Check the Outout\n",
    "for tpl in aggr_rdd.collect():\n",
    "    print(tpl)"
   ]
  },
  {
   "cell_type": "markdown",
   "metadata": {},
   "source": [
    "## sortByKey"
   ]
  },
  {
   "cell_type": "code",
   "execution_count": 348,
   "metadata": {},
   "outputs": [
    {
     "data": {
      "text/plain": [
       "[('Eustaquio', 55.5),\n",
       " ('Hugo', 90.25),\n",
       " ('Ighor', 60.25),\n",
       " ('Loles', 80.25),\n",
       " ('Tolola', 81.75)]"
      ]
     },
     "execution_count": 348,
     "metadata": {},
     "output_type": "execute_result"
    }
   ],
   "source": [
    "aggr_rdd.sortByKey().collect()"
   ]
  },
  {
   "cell_type": "code",
   "execution_count": 350,
   "metadata": {},
   "outputs": [
    {
     "data": {
      "text/plain": [
       "[('Tolola', 81.75),\n",
       " ('Loles', 80.25),\n",
       " ('Ighor', 60.25),\n",
       " ('Hugo', 90.25),\n",
       " ('Eustaquio', 55.5)]"
      ]
     },
     "execution_count": 350,
     "metadata": {},
     "output_type": "execute_result"
    }
   ],
   "source": [
    "aggr_rdd.sortByKey(ascending=False).collect()"
   ]
  },
  {
   "cell_type": "markdown",
   "metadata": {},
   "source": [
    "## mapValues"
   ]
  },
  {
   "cell_type": "code",
   "execution_count": 287,
   "metadata": {},
   "outputs": [
    {
     "data": {
      "text/plain": [
       "[('Eustaquio', 1), ('Hugo', 1), ('Ighor', 1), ('Loles', 1), ('Tolola', 1)]"
      ]
     },
     "execution_count": 287,
     "metadata": {},
     "output_type": "execute_result"
    }
   ],
   "source": [
    "sorted(aggr_rdd.groupByKey().mapValues(len).collect())"
   ]
  },
  {
   "cell_type": "code",
   "execution_count": 288,
   "metadata": {},
   "outputs": [
    {
     "data": {
      "text/plain": [
       "[('Eustaquio', [55.5]),\n",
       " ('Hugo', [90.25]),\n",
       " ('Ighor', [60.25]),\n",
       " ('Loles', [80.25]),\n",
       " ('Tolola', [81.75])]"
      ]
     },
     "execution_count": 288,
     "metadata": {},
     "output_type": "execute_result"
    }
   ],
   "source": [
    "sorted(aggr_rdd.groupByKey().mapValues(list).collect())"
   ]
  },
  {
   "cell_type": "code",
   "execution_count": 297,
   "metadata": {},
   "outputs": [
    {
     "data": {
      "text/plain": [
       "[('a', 2), ('b', 2), ('c', 1)]"
      ]
     },
     "execution_count": 297,
     "metadata": {},
     "output_type": "execute_result"
    }
   ],
   "source": [
    "rdd = sc.parallelize([(\"c\", 1), (\"b\", 1), (\"a\", 4),(\"a\",2),(\"b\",2)])\n",
    "sorted(rdd.groupByKey().mapValues(len).collect())\n",
    "\n",
    "\n"
   ]
  },
  {
   "cell_type": "code",
   "execution_count": 298,
   "metadata": {},
   "outputs": [
    {
     "data": {
      "text/plain": [
       "[('a', [4, 2]), ('b', [1, 2]), ('c', [1])]"
      ]
     },
     "execution_count": 298,
     "metadata": {},
     "output_type": "execute_result"
    }
   ],
   "source": [
    "sorted(rdd.groupByKey().mapValues(list).collect())"
   ]
  },
  {
   "cell_type": "markdown",
   "metadata": {},
   "source": [
    "## Cogroup"
   ]
  },
  {
   "cell_type": "code",
   "execution_count": 323,
   "metadata": {},
   "outputs": [],
   "source": [
    "kv = sc.parallelize([ ('a', 7), ('b', 4), ('a', 1), ('b', 6), ('c', 3) ])\n",
    "kv0 = sc.parallelize([('a',5),('b',9),('b',8)])"
   ]
  },
  {
   "cell_type": "code",
   "execution_count": 324,
   "metadata": {},
   "outputs": [
    {
     "data": {
      "text/plain": [
       "[('a', [7, 1], [5]), ('b', [4, 6], [9, 8]), ('c', [3], [])]"
      ]
     },
     "execution_count": 324,
     "metadata": {},
     "output_type": "execute_result"
    }
   ],
   "source": [
    "kv_co=kv.cogroup(kv0)\n",
    "kv_co.map(lambda x: (x[0],list(x[1][0]),list(x[1][1]))).collect()\n",
    " "
   ]
  },
  {
   "cell_type": "code",
   "execution_count": 325,
   "metadata": {},
   "outputs": [
    {
     "name": "stdout",
     "output_type": "stream",
     "text": [
      "('a', [7, 1], [5])\n",
      "('b', [4, 6], [9, 8])\n",
      "('c', [3], [])\n"
     ]
    }
   ],
   "source": [
    "aggr_rdd=kv_co.map(lambda x: (x[0],list(x[1][0]),list(x[1][1])))\n",
    "for tpl in aggr_rdd.collect():\n",
    "    print(tpl)"
   ]
  },
  {
   "cell_type": "markdown",
   "metadata": {},
   "source": [
    "## Join"
   ]
  },
  {
   "cell_type": "code",
   "execution_count": 336,
   "metadata": {},
   "outputs": [],
   "source": [
    "tkv = spark.createDataFrame(kv,['id','value'])\n",
    "tkv0 = spark.createDataFrame(kv0,['id','value'])\n",
    "tkv = tkv.alias('tkv')\n",
    "tkv0 = tkv0.alias('tkv0')"
   ]
  },
  {
   "cell_type": "code",
   "execution_count": 337,
   "metadata": {},
   "outputs": [
    {
     "name": "stdout",
     "output_type": "stream",
     "text": [
      "+---+-----+---+-----+\n",
      "| id|value| id|value|\n",
      "+---+-----+---+-----+\n",
      "|  b|    4|  b|    9|\n",
      "|  b|    4|  b|    8|\n",
      "|  b|    6|  b|    9|\n",
      "|  b|    6|  b|    8|\n",
      "|  a|    7|  a|    5|\n",
      "|  a|    1|  a|    5|\n",
      "+---+-----+---+-----+\n",
      "\n"
     ]
    }
   ],
   "source": [
    "inner_join = tkv.join(tkv0, tkv.id == tkv0.id)\n",
    "inner_join.show()"
   ]
  },
  {
   "cell_type": "markdown",
   "metadata": {},
   "source": [
    "## Join Left"
   ]
  },
  {
   "cell_type": "code",
   "execution_count": 338,
   "metadata": {},
   "outputs": [
    {
     "name": "stdout",
     "output_type": "stream",
     "text": [
      "+---+-----+----+-----+\n",
      "| id|value|  id|value|\n",
      "+---+-----+----+-----+\n",
      "|  c|    3|null| null|\n",
      "|  b|    4|   b|    9|\n",
      "|  b|    4|   b|    8|\n",
      "|  b|    6|   b|    9|\n",
      "|  b|    6|   b|    8|\n",
      "|  a|    7|   a|    5|\n",
      "|  a|    1|   a|    5|\n",
      "+---+-----+----+-----+\n",
      "\n"
     ]
    }
   ],
   "source": [
    "left_join = tkv.join(tkv0, tkv.id == tkv0.id,how='left')\n",
    "left_join.show()"
   ]
  },
  {
   "cell_type": "markdown",
   "metadata": {},
   "source": [
    "## Join Left Filter"
   ]
  },
  {
   "cell_type": "code",
   "execution_count": 340,
   "metadata": {},
   "outputs": [],
   "source": [
    "left_join = tkv.join(tkv0, tkv.id == tkv0.id,how='left')\n",
    "#left_join.filter(col('tkv0.id').isNull()).show()"
   ]
  },
  {
   "cell_type": "markdown",
   "metadata": {},
   "source": [
    "## Join  Right"
   ]
  },
  {
   "cell_type": "code",
   "execution_count": 341,
   "metadata": {},
   "outputs": [
    {
     "name": "stdout",
     "output_type": "stream",
     "text": [
      "+---+-----+---+-----+\n",
      "| id|value| id|value|\n",
      "+---+-----+---+-----+\n",
      "|  b|    4|  b|    9|\n",
      "|  b|    6|  b|    9|\n",
      "|  b|    4|  b|    8|\n",
      "|  b|    6|  b|    8|\n",
      "|  a|    7|  a|    5|\n",
      "|  a|    1|  a|    5|\n",
      "+---+-----+---+-----+\n",
      "\n"
     ]
    }
   ],
   "source": [
    "right_join = tkv.join(tkv0, tkv.id == tkv0.id,how='right')\n",
    "right_join.show()"
   ]
  },
  {
   "cell_type": "markdown",
   "metadata": {},
   "source": [
    "## Join  Full"
   ]
  },
  {
   "cell_type": "code",
   "execution_count": 342,
   "metadata": {},
   "outputs": [
    {
     "name": "stdout",
     "output_type": "stream",
     "text": [
      "+---+-----+----+-----+\n",
      "| id|value|  id|value|\n",
      "+---+-----+----+-----+\n",
      "|  c|    3|null| null|\n",
      "|  b|    4|   b|    9|\n",
      "|  b|    4|   b|    8|\n",
      "|  b|    6|   b|    9|\n",
      "|  b|    6|   b|    8|\n",
      "|  a|    7|   a|    5|\n",
      "|  a|    1|   a|    5|\n",
      "+---+-----+----+-----+\n",
      "\n"
     ]
    }
   ],
   "source": [
    "full_join = tkv.join(tkv0, tkv.id == tkv0.id,how='full')\n",
    "full_join.show()"
   ]
  },
  {
   "cell_type": "code",
   "execution_count": null,
   "metadata": {},
   "outputs": [],
   "source": []
  },
  {
   "cell_type": "code",
   "execution_count": null,
   "metadata": {},
   "outputs": [],
   "source": []
  }
 ],
 "metadata": {
  "kernelspec": {
   "display_name": "Python 3",
   "language": "python",
   "name": "python3"
  },
  "language_info": {
   "codemirror_mode": {
    "name": "ipython",
    "version": 3
   },
   "file_extension": ".py",
   "mimetype": "text/x-python",
   "name": "python",
   "nbconvert_exporter": "python",
   "pygments_lexer": "ipython3",
   "version": "3.6.2"
  }
 },
 "nbformat": 4,
 "nbformat_minor": 2
}
